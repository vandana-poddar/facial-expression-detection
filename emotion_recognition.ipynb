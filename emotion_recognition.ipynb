{
 "cells": [
  {
   "cell_type": "markdown",
   "metadata": {},
   "source": [
    "# HUMAN FACIAL_EXPRESSION RECOGNITION\n",
    "\n",
    "\n",
    "7 BASIC HUMAN EXPRESSION:\n",
    "\n",
    "-HAPPY \n",
    "\n",
    "-ANGER\n",
    "\n",
    "-SAD\n",
    "\n",
    "-FEARFULL\n",
    "\n",
    "-DISGUSTED\n",
    "\n",
    "-SURPRISED\n",
    "\n",
    "-NEUTRAL\n"
   ]
  },
  {
   "cell_type": "markdown",
   "metadata": {},
   "source": [
    "# IMPORTING MODULES   \n"
   ]
  },
  {
   "cell_type": "code",
   "execution_count": 2,
   "metadata": {
    "scrolled": true
   },
   "outputs": [
    {
     "name": "stderr",
     "output_type": "stream",
     "text": [
      "Using TensorFlow backend.\n",
      "C:\\Users\\vandana poddar\\anaconda3\\lib\\site-packages\\tensorflow\\python\\framework\\dtypes.py:516: FutureWarning: Passing (type, 1) or '1type' as a synonym of type is deprecated; in a future version of numpy, it will be understood as (type, (1,)) / '(1,)type'.\n",
      "  _np_qint8 = np.dtype([(\"qint8\", np.int8, 1)])\n",
      "C:\\Users\\vandana poddar\\anaconda3\\lib\\site-packages\\tensorflow\\python\\framework\\dtypes.py:517: FutureWarning: Passing (type, 1) or '1type' as a synonym of type is deprecated; in a future version of numpy, it will be understood as (type, (1,)) / '(1,)type'.\n",
      "  _np_quint8 = np.dtype([(\"quint8\", np.uint8, 1)])\n",
      "C:\\Users\\vandana poddar\\anaconda3\\lib\\site-packages\\tensorflow\\python\\framework\\dtypes.py:518: FutureWarning: Passing (type, 1) or '1type' as a synonym of type is deprecated; in a future version of numpy, it will be understood as (type, (1,)) / '(1,)type'.\n",
      "  _np_qint16 = np.dtype([(\"qint16\", np.int16, 1)])\n",
      "C:\\Users\\vandana poddar\\anaconda3\\lib\\site-packages\\tensorflow\\python\\framework\\dtypes.py:519: FutureWarning: Passing (type, 1) or '1type' as a synonym of type is deprecated; in a future version of numpy, it will be understood as (type, (1,)) / '(1,)type'.\n",
      "  _np_quint16 = np.dtype([(\"quint16\", np.uint16, 1)])\n",
      "C:\\Users\\vandana poddar\\anaconda3\\lib\\site-packages\\tensorflow\\python\\framework\\dtypes.py:520: FutureWarning: Passing (type, 1) or '1type' as a synonym of type is deprecated; in a future version of numpy, it will be understood as (type, (1,)) / '(1,)type'.\n",
      "  _np_qint32 = np.dtype([(\"qint32\", np.int32, 1)])\n",
      "C:\\Users\\vandana poddar\\anaconda3\\lib\\site-packages\\tensorflow\\python\\framework\\dtypes.py:525: FutureWarning: Passing (type, 1) or '1type' as a synonym of type is deprecated; in a future version of numpy, it will be understood as (type, (1,)) / '(1,)type'.\n",
      "  np_resource = np.dtype([(\"resource\", np.ubyte, 1)])\n",
      "C:\\Users\\vandana poddar\\anaconda3\\lib\\site-packages\\tensorboard\\compat\\tensorflow_stub\\dtypes.py:541: FutureWarning: Passing (type, 1) or '1type' as a synonym of type is deprecated; in a future version of numpy, it will be understood as (type, (1,)) / '(1,)type'.\n",
      "  _np_qint8 = np.dtype([(\"qint8\", np.int8, 1)])\n",
      "C:\\Users\\vandana poddar\\anaconda3\\lib\\site-packages\\tensorboard\\compat\\tensorflow_stub\\dtypes.py:542: FutureWarning: Passing (type, 1) or '1type' as a synonym of type is deprecated; in a future version of numpy, it will be understood as (type, (1,)) / '(1,)type'.\n",
      "  _np_quint8 = np.dtype([(\"quint8\", np.uint8, 1)])\n",
      "C:\\Users\\vandana poddar\\anaconda3\\lib\\site-packages\\tensorboard\\compat\\tensorflow_stub\\dtypes.py:543: FutureWarning: Passing (type, 1) or '1type' as a synonym of type is deprecated; in a future version of numpy, it will be understood as (type, (1,)) / '(1,)type'.\n",
      "  _np_qint16 = np.dtype([(\"qint16\", np.int16, 1)])\n",
      "C:\\Users\\vandana poddar\\anaconda3\\lib\\site-packages\\tensorboard\\compat\\tensorflow_stub\\dtypes.py:544: FutureWarning: Passing (type, 1) or '1type' as a synonym of type is deprecated; in a future version of numpy, it will be understood as (type, (1,)) / '(1,)type'.\n",
      "  _np_quint16 = np.dtype([(\"quint16\", np.uint16, 1)])\n",
      "C:\\Users\\vandana poddar\\anaconda3\\lib\\site-packages\\tensorboard\\compat\\tensorflow_stub\\dtypes.py:545: FutureWarning: Passing (type, 1) or '1type' as a synonym of type is deprecated; in a future version of numpy, it will be understood as (type, (1,)) / '(1,)type'.\n",
      "  _np_qint32 = np.dtype([(\"qint32\", np.int32, 1)])\n",
      "C:\\Users\\vandana poddar\\anaconda3\\lib\\site-packages\\tensorboard\\compat\\tensorflow_stub\\dtypes.py:550: FutureWarning: Passing (type, 1) or '1type' as a synonym of type is deprecated; in a future version of numpy, it will be understood as (type, (1,)) / '(1,)type'.\n",
      "  np_resource = np.dtype([(\"resource\", np.ubyte, 1)])\n"
     ]
    }
   ],
   "source": [
    "\n",
    "import numpy as np\n",
    "import cv2\n",
    "from keras.models import Sequential\n",
    "from keras.layers import Dense, Dropout, Flatten\n",
    "from keras.layers import Conv2D\n",
    "from keras.optimizers import Adam\n",
    "from keras.layers import MaxPooling2D\n",
    "from keras.preprocessing.image import ImageDataGenerator\n"
   ]
  },
  {
   "cell_type": "markdown",
   "metadata": {},
   "source": [
    "# Initializing  the training and validation(testing) generators:"
   ]
  },
  {
   "cell_type": "code",
   "execution_count": 3,
   "metadata": {},
   "outputs": [
    {
     "name": "stdout",
     "output_type": "stream",
     "text": [
      "Found 28821 images belonging to 7 classes.\n",
      "Found 7066 images belonging to 7 classes.\n"
     ]
    }
   ],
   "source": [
    "train_dir = 'C:/Users/vandana poddar/Desktop/mlops_project/train'\n",
    "val_dir = 'C:/Users/vandana poddar/Desktop/mlops_project/validation'\n",
    "train_datagen = ImageDataGenerator(rescale=1./255)\n",
    "val_datagen = ImageDataGenerator(rescale=1./255)\n",
    "train_generator = train_datagen.flow_from_directory(\n",
    "        train_dir,\n",
    "        target_size=(48,48),\n",
    "        batch_size=64,\n",
    "        color_mode=\"grayscale\",\n",
    "        class_mode='categorical')\n",
    "validation_generator = val_datagen.flow_from_directory(\n",
    "        val_dir,\n",
    "        target_size=(48,48),\n",
    "        batch_size=64,\n",
    "        color_mode=\"grayscale\",\n",
    "        class_mode='categorical')\n"
   ]
  },
  {
   "cell_type": "markdown",
   "metadata": {},
   "source": [
    "# Building convolution network architecture"
   ]
  },
  {
   "cell_type": "code",
   "execution_count": 4,
   "metadata": {},
   "outputs": [
    {
     "name": "stdout",
     "output_type": "stream",
     "text": [
      "WARNING:tensorflow:From C:\\Users\\vandana poddar\\anaconda3\\lib\\site-packages\\keras\\backend\\tensorflow_backend.py:4070: The name tf.nn.max_pool is deprecated. Please use tf.nn.max_pool2d instead.\n",
      "\n"
     ]
    }
   ],
   "source": [
    "\n",
    "emotion_model = Sequential()\n",
    "emotion_model.add(Conv2D(32, kernel_size=(3, 3), activation='relu', input_shape=(48,48,1)))\n",
    "emotion_model.add(Conv2D(64, kernel_size=(3, 3), activation='relu'))\n",
    "emotion_model.add(MaxPooling2D(pool_size=(2, 2)))\n",
    "emotion_model.add(Dropout(0.25))\n",
    "emotion_model.add(Conv2D(128, kernel_size=(3, 3), activation='relu'))\n",
    "emotion_model.add(MaxPooling2D(pool_size=(2, 2)))\n",
    "emotion_model.add(Conv2D(128, kernel_size=(3, 3), activation='relu'))\n",
    "emotion_model.add(MaxPooling2D(pool_size=(2, 2)))\n",
    "emotion_model.add(Dropout(0.25))\n",
    "emotion_model.add(Flatten())\n",
    "emotion_model.add(Dense(1024, activation='relu'))\n",
    "emotion_model.add(Dropout(0.5))\n",
    "emotion_model.add(Dense(7, activation='softmax'))\n",
    "\n",
    "\n"
   ]
  },
  {
   "cell_type": "markdown",
   "metadata": {},
   "source": [
    "# Compiling and training the model:"
   ]
  },
  {
   "cell_type": "code",
   "execution_count": 4,
   "metadata": {},
   "outputs": [
    {
     "name": "stdout",
     "output_type": "stream",
     "text": [
      "WARNING:tensorflow:From C:\\Users\\vandana poddar\\anaconda3\\lib\\site-packages\\keras\\backend\\tensorflow_backend.py:422: The name tf.global_variables is deprecated. Please use tf.compat.v1.global_variables instead.\n",
      "\n",
      "Epoch 1/30\n",
      "448/448 [==============================] - 2006s 4s/step - loss: 1.8059 - accuracy: 0.2575 - val_loss: 1.7752 - val_accuracy: 0.3321\n",
      "Epoch 2/30\n",
      "448/448 [==============================] - 217s 484ms/step - loss: 1.6397 - accuracy: 0.3589 - val_loss: 1.5939 - val_accuracy: 0.4077\n",
      "Epoch 3/30\n",
      "448/448 [==============================] - 233s 520ms/step - loss: 1.5513 - accuracy: 0.4026 - val_loss: 1.5180 - val_accuracy: 0.4359\n",
      "Epoch 4/30\n",
      "448/448 [==============================] - 250s 557ms/step - loss: 1.4888 - accuracy: 0.4297 - val_loss: 1.3192 - val_accuracy: 0.4602\n",
      "Epoch 5/30\n",
      "448/448 [==============================] - 248s 554ms/step - loss: 1.4265 - accuracy: 0.4565 - val_loss: 1.4320 - val_accuracy: 0.4799\n",
      "Epoch 6/30\n",
      "448/448 [==============================] - 243s 543ms/step - loss: 1.3816 - accuracy: 0.4756 - val_loss: 1.4939 - val_accuracy: 0.4853\n",
      "Epoch 7/30\n",
      "448/448 [==============================] - 581s 1s/step - loss: 1.3368 - accuracy: 0.4961 - val_loss: 1.4331 - val_accuracy: 0.5066\n",
      "Epoch 8/30\n",
      "448/448 [==============================] - 217s 485ms/step - loss: 1.2907 - accuracy: 0.5079 - val_loss: 1.2557 - val_accuracy: 0.5205\n",
      "Epoch 9/30\n",
      "448/448 [==============================] - 222s 495ms/step - loss: 1.2604 - accuracy: 0.5230 - val_loss: 1.1472 - val_accuracy: 0.5307\n",
      "Epoch 10/30\n",
      "448/448 [==============================] - 228s 509ms/step - loss: 1.2281 - accuracy: 0.5378 - val_loss: 1.2102 - val_accuracy: 0.5376\n",
      "Epoch 11/30\n",
      "448/448 [==============================] - 226s 505ms/step - loss: 1.1897 - accuracy: 0.5489 - val_loss: 1.2236 - val_accuracy: 0.5454\n",
      "Epoch 12/30\n",
      "448/448 [==============================] - 236s 527ms/step - loss: 1.1696 - accuracy: 0.5597 - val_loss: 1.1947 - val_accuracy: 0.5634\n",
      "Epoch 13/30\n",
      "448/448 [==============================] - 271s 604ms/step - loss: 1.1365 - accuracy: 0.5730 - val_loss: 1.2152 - val_accuracy: 0.5609\n",
      "Epoch 14/30\n",
      "448/448 [==============================] - 266s 595ms/step - loss: 1.1108 - accuracy: 0.5837 - val_loss: 1.3777 - val_accuracy: 0.5725\n",
      "Epoch 15/30\n",
      "448/448 [==============================] - 250s 557ms/step - loss: 1.0927 - accuracy: 0.5909 - val_loss: 1.0531 - val_accuracy: 0.5766\n",
      "Epoch 16/30\n",
      "448/448 [==============================] - 294s 656ms/step - loss: 1.0637 - accuracy: 0.6025 - val_loss: 1.0155 - val_accuracy: 0.5839\n",
      "Epoch 17/30\n",
      "448/448 [==============================] - 300s 670ms/step - loss: 1.0356 - accuracy: 0.6165 - val_loss: 1.0620 - val_accuracy: 0.5868\n",
      "Epoch 18/30\n",
      "448/448 [==============================] - 294s 655ms/step - loss: 1.0253 - accuracy: 0.6177 - val_loss: 1.1398 - val_accuracy: 0.5948\n",
      "Epoch 19/30\n",
      "448/448 [==============================] - 284s 635ms/step - loss: 0.9908 - accuracy: 0.6307 - val_loss: 1.3206 - val_accuracy: 0.5979\n",
      "Epoch 20/30\n",
      "448/448 [==============================] - 290s 647ms/step - loss: 0.9736 - accuracy: 0.6383 - val_loss: 1.1088 - val_accuracy: 0.5959\n",
      "Epoch 21/30\n",
      "448/448 [==============================] - 283s 632ms/step - loss: 0.9468 - accuracy: 0.6470 - val_loss: 1.3657 - val_accuracy: 0.5989\n",
      "Epoch 22/30\n",
      "448/448 [==============================] - 308s 687ms/step - loss: 0.9182 - accuracy: 0.6628 - val_loss: 1.1125 - val_accuracy: 0.6004\n",
      "Epoch 23/30\n",
      "448/448 [==============================] - 255s 570ms/step - loss: 0.9039 - accuracy: 0.6638 - val_loss: 1.0755 - val_accuracy: 0.6074\n",
      "Epoch 24/30\n",
      "448/448 [==============================] - 215s 480ms/step - loss: 0.8873 - accuracy: 0.6723 - val_loss: 1.2364 - val_accuracy: 0.6072\n",
      "Epoch 25/30\n",
      "448/448 [==============================] - 273s 609ms/step - loss: 0.8549 - accuracy: 0.6863 - val_loss: 0.9824 - val_accuracy: 0.6098\n",
      "Epoch 26/30\n",
      "448/448 [==============================] - 259s 578ms/step - loss: 0.8309 - accuracy: 0.6949 - val_loss: 0.9915 - val_accuracy: 0.6173\n",
      "Epoch 27/30\n",
      "448/448 [==============================] - 261s 582ms/step - loss: 0.8184 - accuracy: 0.6982 - val_loss: 1.0807 - val_accuracy: 0.6128\n",
      "Epoch 28/30\n",
      "448/448 [==============================] - 258s 577ms/step - loss: 0.7863 - accuracy: 0.7107 - val_loss: 1.0364 - val_accuracy: 0.6150\n",
      "Epoch 29/30\n",
      "448/448 [==============================] - 255s 569ms/step - loss: 0.7686 - accuracy: 0.7195 - val_loss: 1.3023 - val_accuracy: 0.6227\n",
      "Epoch 30/30\n",
      "448/448 [==============================] - 264s 590ms/step - loss: 0.7523 - accuracy: 0.7258 - val_loss: 1.5191 - val_accuracy: 0.6217\n"
     ]
    }
   ],
   "source": [
    "\n",
    "emotion_model.compile(loss='categorical_crossentropy',optimizer=Adam(lr=0.0001, decay=1e-6),metrics=['accuracy'])\n",
    "emotion_model_info = emotion_model.fit_generator(\n",
    "        train_generator,\n",
    "        steps_per_epoch=28709 // 64,\n",
    "        epochs=30,\n",
    "        validation_data=validation_generator,\n",
    "        validation_steps=7178 // 64)"
   ]
  },
  {
   "cell_type": "markdown",
   "metadata": {},
   "source": [
    "# Saving the model weights:"
   ]
  },
  {
   "cell_type": "code",
   "execution_count": 5,
   "metadata": {},
   "outputs": [],
   "source": [
    "emotion_model.save_weights('emotion_model.h5')"
   ]
  },
  {
   "cell_type": "markdown",
   "metadata": {},
   "source": [
    "# predict the emotions using webcam"
   ]
  },
  {
   "cell_type": "code",
   "execution_count": 6,
   "metadata": {},
   "outputs": [
    {
     "name": "stdout",
     "output_type": "stream",
     "text": [
      "WARNING:tensorflow:From C:\\Users\\vandana poddar\\anaconda3\\lib\\site-packages\\keras\\backend\\tensorflow_backend.py:422: The name tf.global_variables is deprecated. Please use tf.compat.v1.global_variables instead.\n",
      "\n"
     ]
    }
   ],
   "source": [
    "cv2.ocl.setUseOpenCL(False)\n",
    "emotion_dict = {0: \"Angry\", 1: \"Disgusted\", 2: \"Fearful\", 3: \"Happy\", 4: \"Neutral\", 5: \"Sad\", 6: \"Surprised\"}\n",
    "cap = cv2.VideoCapture(0)\n",
    "while True:\n",
    "    ret, frame = cap.read()\n",
    "    if not ret:\n",
    "        break\n",
    "        #we have used haarcascade classifier to detect boundingbox of human face in webcam\n",
    "    bounding_box = cv2.CascadeClassifier('C:/Users/vandana poddar/Desktop/mlops_project/haarcascade_frontalface_default.xml')\n",
    "    gray_frame = cv2.cvtColor(frame, cv2.COLOR_BGR2GRAY)\n",
    "    num_faces = bounding_box.detectMultiScale(gray_frame,scaleFactor=1.3, minNeighbors=5)\n",
    "    for (x, y, w, h) in num_faces:\n",
    "        cv2.rectangle(frame, (x, y-50), (x+w, y+h+10), (0, 0, 0), 2)\n",
    "        roi_gray_frame = gray_frame[y:y + h, x:x + w]\n",
    "        cropped_img = np.expand_dims(np.expand_dims(cv2.resize(roi_gray_frame, (48, 48)), -1), 0)\n",
    "        emotion_prediction = emotion_model.predict(cropped_img)\n",
    "        maxindex = int(np.argmax(emotion_prediction))\n",
    "        cv2.putText(frame, emotion_dict[maxindex], (x+20, y-60), cv2.FONT_HERSHEY_SIMPLEX, 1, (0, 0, 255), 2, cv2.LINE_AA)\n",
    "    cv2.imshow('Video', cv2.resize(frame,(360,260),interpolation = cv2.INTER_CUBIC))\n",
    "    if cv2.waitKey(1)  == 13:\n",
    "        break\n",
    "cap.release()\n",
    "cv2.destroyAllWindows()\n"
   ]
  }
 ],
 "metadata": {
  "kernelspec": {
   "display_name": "Python 3",
   "language": "python",
   "name": "python3"
  },
  "language_info": {
   "codemirror_mode": {
    "name": "ipython",
    "version": 3
   },
   "file_extension": ".py",
   "mimetype": "text/x-python",
   "name": "python",
   "nbconvert_exporter": "python",
   "pygments_lexer": "ipython3",
   "version": "3.7.6"
  }
 },
 "nbformat": 4,
 "nbformat_minor": 4
}
